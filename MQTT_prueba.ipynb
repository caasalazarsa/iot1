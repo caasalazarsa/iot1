{
  "nbformat": 4,
  "nbformat_minor": 0,
  "metadata": {
    "colab": {
      "provenance": [],
      "authorship_tag": "ABX9TyMsoq9waayvHabgtw5eHB4e",
      "include_colab_link": true
    },
    "kernelspec": {
      "name": "python3",
      "display_name": "Python 3"
    },
    "language_info": {
      "name": "python"
    }
  },
  "cells": [
    {
      "cell_type": "markdown",
      "metadata": {
        "id": "view-in-github",
        "colab_type": "text"
      },
      "source": [
        "<a href=\"https://colab.research.google.com/github/caasalazarsa/iot1/blob/main/MQTT_prueba.ipynb\" target=\"_parent\"><img src=\"https://colab.research.google.com/assets/colab-badge.svg\" alt=\"Open In Colab\"/></a>"
      ]
    },
    {
      "cell_type": "code",
      "execution_count": 1,
      "metadata": {
        "colab": {
          "base_uri": "https://localhost:8080/"
        },
        "id": "Nv_jl8ZPzSX8",
        "outputId": "2bd1e8fc-e790-43ed-a354-e1fb28876f80"
      },
      "outputs": [
        {
          "output_type": "stream",
          "name": "stdout",
          "text": [
            "Collecting paho-mqtt\n",
            "  Downloading paho_mqtt-2.1.0-py3-none-any.whl.metadata (23 kB)\n",
            "Downloading paho_mqtt-2.1.0-py3-none-any.whl (67 kB)\n",
            "\u001b[?25l   \u001b[90m━━━━━━━━━━━━━━━━━━━━━━━━━━━━━━━━━━━━━━━━\u001b[0m \u001b[32m0.0/67.2 kB\u001b[0m \u001b[31m?\u001b[0m eta \u001b[36m-:--:--\u001b[0m\r\u001b[2K   \u001b[91m━━━━━━━━━━━━━━━━━━━━━━━━━━━━━━━━━━━━\u001b[0m\u001b[91m╸\u001b[0m\u001b[90m━━━\u001b[0m \u001b[32m61.4/67.2 kB\u001b[0m \u001b[31m26.1 MB/s\u001b[0m eta \u001b[36m0:00:01\u001b[0m\r\u001b[2K   \u001b[90m━━━━━━━━━━━━━━━━━━━━━━━━━━━━━━━━━━━━━━━━\u001b[0m \u001b[32m67.2/67.2 kB\u001b[0m \u001b[31m1.4 MB/s\u001b[0m eta \u001b[36m0:00:00\u001b[0m\n",
            "\u001b[?25hInstalling collected packages: paho-mqtt\n",
            "Successfully installed paho-mqtt-2.1.0\n"
          ]
        }
      ],
      "source": [
        "!pip install paho-mqtt"
      ]
    },
    {
      "cell_type": "code",
      "source": [
        "import paho.mqtt.client as mqttClient\n",
        "import time\n",
        "\n",
        "def on_connect(client, userdata, flags, rc):\n",
        "\n",
        "    if rc == 0:\n",
        "\n",
        "        print(\"Connected to broker\")\n",
        "\n",
        "        global Connected                #Use global variable\n",
        "        Connected = True                #Signal connection\n",
        "\n",
        "    else:\n",
        "\n",
        "        print(\"Connection failed\")\n",
        "\n",
        "def on_message(client, userdata, message):\n",
        "    print (\"Message received: \"  + str(message.payload))\n",
        "\n",
        "Connected = False   #global variable for the state of the connection\n",
        "\n",
        "\n",
        "client = mqttClient.Client()\n",
        "client.on_connect= on_connect                      #attach function to callback\n",
        "client.on_message= on_message                      #attach function to callback\n",
        "\n",
        "client.connect(\"broker.mqtt.cool\", 1883, 60)\n",
        "\n",
        "client.loop_start()        #start the loop\n",
        "\n",
        "while Connected != True:    #Wait for connection\n",
        "    time.sleep(0.1)\n",
        "\n",
        "client.subscribe(\"acknowledge\")\n",
        "\n",
        "user=''\n",
        "product=''\n",
        "\n",
        "try:\n",
        "    while True:\n",
        "        user=input(\"ingrese un usuario: \")\n",
        "        client.publish(\"user\", user, qos=1)\n",
        "        product=input(\"ingrese un producto: \")\n",
        "        client.publish(\"product\", product, qos=1)\n",
        "        time.sleep(1)\n",
        "\n",
        "except KeyboardInterrupt:\n",
        "    print (\"exiting\")\n",
        "    client.disconnect()\n",
        "    client.loop_stop()\n"
      ],
      "metadata": {
        "colab": {
          "base_uri": "https://localhost:8080/"
        },
        "id": "f7gDC8wzzV5T",
        "outputId": "a459946b-0e4d-421a-b29c-5b5419425c81"
      },
      "execution_count": 11,
      "outputs": [
        {
          "output_type": "stream",
          "name": "stderr",
          "text": [
            "<ipython-input-11-33d447b96122>:23: DeprecationWarning: Callback API version 1 is deprecated, update to latest version\n",
            "  client = mqttClient.Client()\n"
          ]
        },
        {
          "output_type": "stream",
          "name": "stdout",
          "text": [
            "Connected to broker\n",
            "Message received: b'hola'\n",
            "Message received: b'hola'\n",
            "Message received: b'hola'\n",
            "Message received: b'hola'\n",
            "Message received: b'hola'\n",
            "Message received: b'hola'\n",
            "Message received: b'hola'\n",
            "Message received: b'hola'\n",
            "Message received: b'hola'\n",
            "ingrese un usuario: Carlitosh\n",
            "Message received: b'hola'\n",
            "Message received: b'hola'\n",
            "Message received: b'hola'\n",
            "Message received: b'hola'\n",
            "Message received: b'hola'\n",
            "Message received: b'hola'\n",
            "Message received: b'hola'\n",
            "Message received: b'hola'\n",
            "Message received: b'hola'\n",
            "Message received: b'hola'\n",
            "Message received: b'hola'\n",
            "Message received: b'hola'\n",
            "Message received: b'hola'\n",
            "Message received: b'hola'\n",
            "Message received: b'hola'\n",
            "ingrese un producto: Nevera\n",
            "Message received: b'hola'\n",
            "Message received: b'hola'\n",
            "Message received: b'hola'\n",
            "Message received: b'hola'\n",
            "Message received: b'hola'\n",
            "Message received: b'hola'\n",
            "Message received: b'hola'\n",
            "Message received: b'hola'\n",
            "Message received: b'hola'\n",
            "Message received: b'hola'\n",
            "Message received: b'hola'\n",
            "Message received: b'hola'\n",
            "Message received: b'hola'\n",
            "Message received: b'hola'\n",
            "Message received: b'hola'\n",
            "Message received: b'hola'\n",
            "Message received: b'hola'\n",
            "Message received: b'hola'\n",
            "Message received: b'hola'\n",
            "Message received: b'hola'\n",
            "Message received: b'hola'\n",
            "Message received: b'hola'\n",
            "Message received: b'hola'\n",
            "Message received: b'hola'\n",
            "Message received: b'hola'\n",
            "Message received: b'hola'\n",
            "Message received: b'hola'\n",
            "Message received: b'hola'\n",
            "Message received: b'hola'\n",
            "Message received: b'hola'\n",
            "Message received: b'hola'\n",
            "Message received: b'hola'\n",
            "Message received: b'hola'\n",
            "Message received: b'hola'\n",
            "Message received: b'hola'\n",
            "Message received: b'hola'\n",
            "Message received: b'hola'\n",
            "Message received: b'hola'\n",
            "Message received: b'hola'\n",
            "Message received: b'hola'\n",
            "exiting\n"
          ]
        }
      ]
    },
    {
      "cell_type": "code",
      "source": [],
      "metadata": {
        "id": "bW2Kgpak5zum"
      },
      "execution_count": null,
      "outputs": []
    },
    {
      "cell_type": "code",
      "source": [
        "()"
      ],
      "metadata": {
        "id": "uipcrwXNzn1O"
      },
      "execution_count": null,
      "outputs": []
    }
  ]
}